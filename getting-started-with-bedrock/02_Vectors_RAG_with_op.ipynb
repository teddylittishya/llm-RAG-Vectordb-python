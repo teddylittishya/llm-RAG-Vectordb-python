{
 "cells": [
  {
   "cell_type": "markdown",
   "id": "f1a68fe6-0e9d-43d7-8f5a-d6574cc5f9ed",
   "metadata": {},
   "source": [
    "# Getting started with `embeddings`"
   ]
  },
  {
   "cell_type": "code",
   "execution_count": 1,
   "id": "3c5c2e43-e7aa-431d-9210-d27af118bfcb",
   "metadata": {
    "tags": []
   },
   "outputs": [],
   "source": [
    "from langchain.embeddings import BedrockEmbeddings"
   ]
  },
  {
   "cell_type": "markdown",
   "id": "64d676cb-3953-458a-85a3-c95485e44d05",
   "metadata": {
    "tags": []
   },
   "source": [
    "## Embedding a sentence "
   ]
  },
  {
   "cell_type": "code",
   "execution_count": 2,
   "id": "3feab9ab-408c-433f-94ec-a8567f51f5df",
   "metadata": {
    "tags": []
   },
   "outputs": [
    {
     "name": "stdout",
     "output_type": "stream",
     "text": [
      "1536\n"
     ]
    }
   ],
   "source": [
    "embeddings = BedrockEmbeddings()\n",
    "text = \"New Delhi is the capital of India\"  \n",
    "\n",
    "query_result = embeddings.embed_query(text)  \n",
    "\n",
    "print(len(query_result))"
   ]
  },
  {
   "cell_type": "markdown",
   "id": "a9d8fdaa-987b-4afb-92fd-12dd3d63bd91",
   "metadata": {
    "tags": []
   },
   "source": [
    "## Embedding a group of sentences/document"
   ]
  },
  {
   "cell_type": "code",
   "execution_count": 3,
   "id": "2fbb99ae-2d17-4059-9302-098a0ef7ab68",
   "metadata": {
    "tags": []
   },
   "outputs": [
    {
     "name": "stdout",
     "output_type": "stream",
     "text": [
      "No. of vectors : 3\n",
      "Dimension of each vectors : [1536, 1536, 1536]\n"
     ]
    }
   ],
   "source": [
    "embeddings = BedrockEmbeddings()\n",
    "texts = [\"New Delhi is the capital of India\", \n",
    "         \"Welcome to India\", \n",
    "         \"I am going to play football today\"]\n",
    "\n",
    "doc_vectors = embeddings.embed_documents(texts)\n",
    "\n",
    "print(f\"No. of vectors : {len(doc_vectors)}\")\n",
    "print(f\"Dimension of each vectors : {[len(i) for i in doc_vectors]}\")"
   ]
  },
  {
   "cell_type": "markdown",
   "id": "81555d2e-76bc-4738-a06f-4e1d421d8108",
   "metadata": {
    "tags": []
   },
   "source": [
    "# Vector datastore (Amazon Aurora using `pgvector`)"
   ]
  },
  {
   "cell_type": "markdown",
   "id": "621b91c0-f5f4-49f1-9a44-f53d8338f63f",
   "metadata": {
    "tags": []
   },
   "source": [
    "<div style=\"background-color: #f0f8ff; padding: 10px; border-radius: 5px; font-size: 1.1em;\">\n",
    "<b>Prerequisite:</b>\n",
    "<ol>\n",
    "    <li>Have an <b>Aurora cluster ready</b>.</li>\n",
    "    <li>Create the <b>pgvector extension</b> on your Aurora PostgreSQL database (DB) cluster:\n",
    "        <pre style=\"font-size: 1.1em;\"><code>\n",
    "        CREATE EXTENSION vector;\n",
    "        </code></pre>\n",
    "    </li>\n",
    "</ol>\n",
    "</div>\n"
   ]
  },
  {
   "cell_type": "markdown",
   "id": "982876f2-fce3-4af7-ae2d-4061a35e2915",
   "metadata": {
    "tags": []
   },
   "source": [
    "We can connect to the Aurora cluster and check \n",
    "\n",
    "\n",
    "```sql\n",
    "-- SHOW the current database\n",
    "SELECT current_database();\n",
    "\n",
    "-- SHOW all the tables in the database\n",
    "SELECT table_name\n",
    "FROM postgres.information_schema.tables\n",
    "WHERE table_schema = 'public';\n",
    "```"
   ]
  },
  {
   "cell_type": "markdown",
   "id": "d436e685-01d0-4ba5-8807-b0527d3e462d",
   "metadata": {
    "tags": []
   },
   "source": [
    "## Importing few of the `libs`"
   ]
  },
  {
   "cell_type": "code",
   "execution_count": 4,
   "id": "adfe5d1b-554c-43af-b1b5-df181ddf5efc",
   "metadata": {
    "tags": []
   },
   "outputs": [],
   "source": [
    "import os\n",
    "from dotenv import load_dotenv\n",
    "from langchain.vectorstores.pgvector import PGVector, DistanceStrategy"
   ]
  },
  {
   "cell_type": "markdown",
   "id": "be41429f-fb18-414f-a9e7-004c724f022d",
   "metadata": {
    "tags": []
   },
   "source": [
    "## Loading all the `env` variables \n"
   ]
  },
  {
   "cell_type": "code",
   "execution_count": 5,
   "id": "4091f961-1285-4e11-a166-d03589c8f498",
   "metadata": {
    "tags": []
   },
   "outputs": [
    {
     "data": {
      "text/plain": [
       "True"
      ]
     },
     "execution_count": 5,
     "metadata": {},
     "output_type": "execute_result"
    }
   ],
   "source": [
    "load_dotenv()"
   ]
  },
  {
   "cell_type": "markdown",
   "id": "d94c137f-2a55-4d87-8cb3-ea0bbd2df59a",
   "metadata": {
    "tags": []
   },
   "source": [
    "## Create a `collection` and `connect` with the Vector store"
   ]
  },
  {
   "cell_type": "code",
   "execution_count": 6,
   "id": "86c1240c-4765-4837-8737-64a3a4cb634e",
   "metadata": {
    "tags": []
   },
   "outputs": [],
   "source": [
    "# Collection Name \n",
    "COLLECTION_NAME = \"my_collection\"\n",
    "\n",
    "# Connection String\n",
    "CONNECTION_STRING = PGVector.connection_string_from_db_params(driver = os.getenv(\"PGVECTOR_DRIVER\"),\n",
    "                                                              user = os.getenv(\"PGVECTOR_USER\"),                                      \n",
    "                                                              password = os.getenv(\"PGVECTOR_PASSWORD\"),                                  \n",
    "                                                              host = os.getenv(\"PGVECTOR_HOST\"),                                            \n",
    "                                                              port = os.getenv(\"PGVECTOR_PORT\"),                                          \n",
    "                                                              database = os.getenv(\"PGVECTOR_DATABASE\"),\n",
    "                                                              )  \n",
    "\n",
    "# Text Embedding model\n",
    "embeddings = BedrockEmbeddings()\n",
    "\n",
    "# Creating the VectorDB store instance   \n",
    "my_vector_store = PGVector(collection_name=COLLECTION_NAME,\n",
    "                           connection_string=CONNECTION_STRING,\n",
    "                           embedding_function=embeddings,\n",
    "                           distance_strategy = DistanceStrategy.EUCLIDEAN\n",
    "                          )"
   ]
  },
  {
   "cell_type": "markdown",
   "id": "95298e96-abb4-4315-97f8-40034ab7c061",
   "metadata": {
    "tags": []
   },
   "source": [
    "At this point, `LangChain` will create **two** tables in the Aurora database:\n",
    "- `langchain_pg_collection`\n",
    "- `langchain_pg_embedding`\n",
    "\n",
    "\n",
    "We can see these **two** tables "
   ]
  },
  {
   "cell_type": "markdown",
   "id": "d3ee517e-38c7-42c4-b1af-ebf31051eca7",
   "metadata": {
    "tags": []
   },
   "source": [
    "![Vector Store on AWS](images/sql_lc_show_tables.png)"
   ]
  },
  {
   "cell_type": "markdown",
   "id": "137b9498-b269-47f5-89a8-794709244a7d",
   "metadata": {},
   "source": [
    "We can see our newly created `COLLECTION` **my_collection**"
   ]
  },
  {
   "cell_type": "markdown",
   "id": "155bca0c-7058-47dc-9cf9-3fde0415fd2d",
   "metadata": {
    "tags": []
   },
   "source": [
    "![Vector Store on AWS](images/sql_lc_show_tables2.png)"
   ]
  },
  {
   "cell_type": "markdown",
   "id": "541a3e1a-e6dd-4bbe-bc95-7640b3d9dd4f",
   "metadata": {},
   "source": [
    "Let's see what we have inside the other table `langchain_pg_embedding` "
   ]
  },
  {
   "cell_type": "markdown",
   "id": "a8f0d599-35a7-4d0d-b82d-005d669c3e30",
   "metadata": {
    "tags": []
   },
   "source": [
    "![Vector Store on AWS](images/sql_lc_show_tables3.png)"
   ]
  },
  {
   "cell_type": "markdown",
   "id": "1650de41-3b6b-4dbd-b4e1-084b4f574222",
   "metadata": {
    "tags": []
   },
   "source": [
    "## Create some `vectors`"
   ]
  },
  {
   "cell_type": "code",
   "execution_count": 7,
   "id": "39a3c8ea-d196-42d3-9b91-f2db18a0d586",
   "metadata": {
    "tags": []
   },
   "outputs": [],
   "source": [
    "texts = [\"New Delhi is the capital of India\", \n",
    "         \"Welcome to India\", \n",
    "         \"I am going to play football today\"]\n",
    "\n",
    "# Text --> Embeddings --> Vectors --> Aurora \n",
    "my_vector_store.from_texts(\n",
    "                            texts=texts,\n",
    "                            collection_name=COLLECTION_NAME,\n",
    "                            connection_string=CONNECTION_STRING,\n",
    "                            embedding=embeddings\n",
    "                          );"
   ]
  },
  {
   "cell_type": "markdown",
   "id": "3b60e0fd-e743-4c8d-9d1e-d59d5114a0b9",
   "metadata": {},
   "source": [
    "Let's now check the `langchain_pg_embedding` table"
   ]
  },
  {
   "cell_type": "markdown",
   "id": "4fa9bfe6-f992-4f03-97c8-0ee92a88f9df",
   "metadata": {
    "tags": []
   },
   "source": [
    "![Vector Store on AWS](images/sql_lc_show_tables4.png)"
   ]
  },
  {
   "cell_type": "markdown",
   "id": "00d08b1c-a47f-451b-b0ea-93717f3ff453",
   "metadata": {},
   "source": [
    "#### Add few more vectors"
   ]
  },
  {
   "cell_type": "code",
   "execution_count": 8,
   "id": "6fdc0bfc-6748-484d-9a89-83944a4f8106",
   "metadata": {
    "tags": []
   },
   "outputs": [],
   "source": [
    "texts = ['The sky is clear tonight.',\n",
    "         'Cats are curious animals.',\n",
    "         \"It's raining in Paris.\",\n",
    "         'Learning Python can be fun.',\n",
    "         'Coffee tastes better with friends.',\n",
    "         'I live in Boston, its a beautiful city',\n",
    "         'There is museum next to my home',\n",
    "         'Music brings people together.',\n",
    "         'The museum is closed on Mondays in few places',\n",
    "         'In few places museums are open 7 days a week. like in my city']\n",
    "\n",
    "# Text --> Embeddings --> Vectors --> Aurora \n",
    "my_vector_store.from_texts(\n",
    "                            texts=texts,\n",
    "                            collection_name=COLLECTION_NAME,\n",
    "                            connection_string=CONNECTION_STRING,\n",
    "                            embedding=embeddings\n",
    "                          );\n"
   ]
  },
  {
   "cell_type": "markdown",
   "id": "bff3e51e-0919-4823-87b4-9fff4b81d5a2",
   "metadata": {
    "tags": []
   },
   "source": [
    "## Run `similarity search` with PGVector with distance."
   ]
  },
  {
   "cell_type": "code",
   "execution_count": 9,
   "id": "c2c1c245-6e5b-4afa-baf6-c630e6dd804f",
   "metadata": {
    "tags": []
   },
   "outputs": [
    {
     "data": {
      "text/plain": [
       "[Document(page_content='In few places museums are open 7 days a week. like in my city'),\n",
       " Document(page_content='The museum is closed on Mondays in few places'),\n",
       " Document(page_content='There is museum next to my home'),\n",
       " Document(page_content='I live in Boston, its a beautiful city')]"
      ]
     },
     "execution_count": 9,
     "metadata": {},
     "output_type": "execute_result"
    }
   ],
   "source": [
    "my_vector_store.similarity_search(query = \"Are museums open all the days in any city\", k=4) "
   ]
  },
  {
   "cell_type": "code",
   "execution_count": null,
   "id": "1099231b-93c5-4f4c-9f7c-b5da819dd605",
   "metadata": {},
   "outputs": [],
   "source": []
  }
 ],
 "metadata": {
  "kernelspec": {
   "display_name": "rs-env",
   "language": "python",
   "name": "rs-env"
  },
  "language_info": {
   "codemirror_mode": {
    "name": "ipython",
    "version": 3
   },
   "file_extension": ".py",
   "mimetype": "text/x-python",
   "name": "python",
   "nbconvert_exporter": "python",
   "pygments_lexer": "ipython3",
   "version": "3.11.5"
  }
 },
 "nbformat": 4,
 "nbformat_minor": 5
}
